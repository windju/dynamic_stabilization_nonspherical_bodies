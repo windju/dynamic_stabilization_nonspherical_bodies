{
 "metadata": {
  "name": "",
  "signature": "sha256:1b0995aaae73d4fb1b866ae45e70be451b569ca99d046dbdcee63e282a78f00a"
 },
 "nbformat": 3,
 "nbformat_minor": 0,
 "worksheets": [
  {
   "cells": [
    {
     "cell_type": "code",
     "collapsed": false,
     "input": [
      "%matplotlib inline\n",
      "import pandas as pd\n",
      "import matplotlib.pyplot as plt\n",
      "import matplotlib.backends.backend_pdf\n",
      "import scipy.integrate as spi\n",
      "import numpy as np\n",
      "import os\n",
      "import csv\n",
      "import seaborn as sns\n",
      "from pyPdf import PdfFileWriter, PdfFileReader\n",
      "from scipy.stats import norm\n",
      "#from sklearn.neighbors.kde import KernelDensity\n",
      "from matplotlib.colors import LogNorm\n",
      "from pylab import *\n",
      "from matplotlib import rc\n",
      "#rc('font',**{'family':'sans-serif','sans-serif':['Helvetica']})\n",
      "rc('font',**{'family':'serif','serif':['Palatino']})\n",
      "rc('text', usetex=True)\n",
      "# seaborn settings\n",
      "\n",
      "lav4 = sns.cubehelix_palette(4, start=2.6, rot=0.2, dark=0.3, light=.9, reverse=True)\n",
      "gr_pur8 = sns.diverging_palette(120, 280, s=85, l=25, n=8)\n",
      "muted = sns.color_palette(\"muted\", 10)\n",
      "ylorrd = sns.color_palette(\"YlOrRd\", 10)\n",
      "grids = sns.cubehelix_palette(16, start=1.0, rot=0.2, dark=0.8, light=.999, reverse=False)\n",
      "\n",
      "#sns.palplot(muted)\n",
      "# set seaborn plotting style \n",
      "def sinplot(flip=1):\n",
      "    x = np.linspace(0, 14, 100)\n",
      "    for i in range(1, 7):\n",
      "        plt.plot(x, np.sin(x + i * .5) * (7 - i) * flip,label='t')\n",
      "        plt.legend(bbox_to_anchor=(1.05, 1), loc=2, borderaxespad=0.)\n",
      "sns.set_palette(\"husl\")\n",
      "sns.set_style(\"darkgrid\", {\"axes.facecolor\": grids[2], 'grid.linestyle': '--', 'grid.color': grids[15]})\n",
      "#sinplot();\n",
      "sns.palplot(grids)"
     ],
     "language": "python",
     "metadata": {},
     "outputs": [
      {
       "metadata": {},
       "output_type": "display_data",
       "png": "[encoded data removed]",
       "text": [
        "<matplotlib.figure.Figure at 0x107a0c310>"
       ]
      }
     ],
     "prompt_number": 1
    },
    {
     "cell_type": "heading",
     "level": 1,
     "metadata": {},
     "source": [
      "Dynamic Stabilization of Non-Spherical Bodies Against Unlimited Collapse"
     ]
    },
    {
     "cell_type": "markdown",
     "metadata": {},
     "source": [
      "- 3 degrees of freedom of a uniform self-gravitating compressible ellipsoidal body\n",
      "- The development of instability leads to the formation of a regularly or chaotically oscillating body, in which dynamical motion prevents the formation of the singularity\n",
      "- The regions of chaotic and regular pulsations are found by constructing a Poincare Map"
     ]
    },
    {
     "cell_type": "heading",
     "level": 2,
     "metadata": {},
     "source": [
      "Spheroid"
     ]
    },
    {
     "cell_type": "markdown",
     "metadata": {},
     "source": [
      "\\begin{equation}\n",
      "\\frac{x^{2}}{a^{2}} + \\frac{y^{2}}{b^{2}} + \\frac{z^{2}}{c^{2}} = 1\n",
      "\\end{equation}\n",
      "\n",
      "Mass Continuity:\n",
      "\n",
      "\\begin{equation}\n",
      "m = \\rho V = \\frac{4\\pi}{3} \\rho abc\n",
      "\\end{equation}\n",
      "\n",
      "Equation of State:\n",
      "\n",
      "\\begin{equation}\n",
      "P = K \\rho^{\\gamma} \\quad \\quad \\gamma = \\frac{4}{3}\n",
      "\\end{equation}\n",
      "\n",
      "Linear velocity dependence on coordinates (x,y,z):\n",
      "\n",
      "\\begin{equation}\n",
      "v_{x} = \\frac{\\dot{a}}{a} x \\quad \\quad \n",
      "v_{y} = \\frac{\\dot{b}}{b} y \\quad \\quad\n",
      "v_{z} = \\frac{\\dot{c}}{c} z \\quad \\quad\n",
      "\\end{equation}\n",
      "\n",
      "Gravitational Energy:\n",
      "\n",
      "\\begin{equation}\n",
      "U_{G} = - \\frac{3Gm^{2}}{10} \\int_{0,\\infty} \\frac{du}{ \\sqrt{ (a^{2}+u^{2})(b^{2}+u^{2})(c^{2}+u^{2}) } }\n",
      "\\end{equation}\n",
      "\n",
      "Set $ \\Delta ^{2} = (a^{2}+u^{2})(b^{2}+u^{2})(c^{2}+u^{2}) $. \\\\\n",
      "\n",
      "Thermal Energy:\n",
      "\n",
      "\\begin{equation}\n",
      "E_{th} \\propto V^{-1/3} \\propto (abc)^{-1/3}\n",
      "\\end{equation}\n",
      "\n",
      "\\begin{equation}\n",
      "\\epsilon_{th} = E_{th}(abc)^{-1/3} = \\left( \\frac{3m}{4\\pi} \\right)^{1/3} 3K = \\text{constant}\n",
      "\\end{equation}\n",
      "\n",
      "Total Internal Energy:\n",
      "\n",
      "\\begin{equation}\n",
      "U = U_{G} + E_{th} \n",
      "\\end{equation}\n",
      "\n",
      "Kinetic Energy:\n",
      "\n",
      "\\begin{equation}\n",
      "T = \\frac{\\rho}{2} \\int_{V} (v_{x}^{2} + v_{y}^{2} + v_{z}^{2}) dv \\quad = \\quad \\frac{m}{10}\\left(\\dot{a}^{2} + \\dot{b}^{2} + \\dot{c}^{2}\\right )\n",
      "\\end{equation}\n",
      "\n",
      "Lagrangian Equation of Motion $L = T - U$:\n",
      "\n",
      "\\begin{equation}\n",
      "\\ddot{a} = - \\frac{3Gm}{2} a \\left( \\int_{0,\\infty} \\frac{du}{(a^{2} + u)\\Delta} \\right) + \\frac{5}{3m} \\frac{\\epsilon}{a(abc)^{1/3}} \n",
      "\\end{equation}\n",
      "\n",
      "\\begin{equation}\n",
      "\\ddot{b} = - \\frac{3Gm}{2} b \\left( \\int_{0,\\infty} \\frac{du}{(b^{2} + u)\\Delta} \\right) + \\frac{5}{3m} \\frac{\\epsilon}{b(abc)^{1/3}} \n",
      "\\end{equation}\n",
      "\n",
      "\\begin{equation}\n",
      "\\ddot{c} = - \\frac{3Gm}{2} c \\left( \\int_{0,\\infty} \\frac{du}{(c^{2} + u)\\Delta} \\right) + \\frac{5}{3m} \\frac{\\epsilon}{c(abc)^{1/3}} \n",
      "\\end{equation}"
     ]
    },
    {
     "cell_type": "heading",
     "level": 2,
     "metadata": {},
     "source": [
      "Dimensionless Equations"
     ]
    },
    {
     "cell_type": "markdown",
     "metadata": {},
     "source": [
      "Scaling parameters $t_{0}, a_{0}, z_{0}, \\rho_{0}, U_{0}, \\epsilon_{0}$ are related by:\n",
      "\n",
      "\\begin{equation}\n",
      "t_{0}^{2} = \\frac{a_{0}^{3}}{Gm_{0}} \\quad \\quad U_{0} = \\frac{Gm_{0}^{2}}{a_{0}}\n",
      "\\end{equation}\n",
      "\n",
      "\\begin{equation}\n",
      "\\rho_{0} = \\frac{m_{0}}{a_{0}^{3}} \\quad \\quad \\epsilon_{0} = U_{0}a_{0}\n",
      "\\end{equation}\n",
      "\n",
      "\\begin{equation}\n",
      "t^{*} = \\frac{t}{t_{0}} \\quad a^{*} = \\frac{a}{a_{0}} \\quad b^{*} = \\frac{b}{b_{0}} \\quad c^{*} = \\frac{c}{c_{0}} \\quad m^{*} = \\frac{m}{m_{0}}\n",
      "\\end{equation}\n",
      "\n",
      "\\begin{equation}\n",
      "\\quad \\rho^{*} = \\frac{\\rho}{\\rho_{0}} \\quad \\rho_{0} = \\frac{m}{a_{0}^{3}} \\quad U_{0} = \\frac{Gm_{0}^{2}}{a_{0}} \\quad \\epsilon_{0} = U_{0} a_{0}\n",
      "\\end{equation}\n",
      "\n",
      "Dimensionless Hamiltonian for the Total Energy, $H = T + U_{G} + E_{th}$:\n",
      "\n",
      "\\begin{equation}\n",
      "H = \\frac{m}{10}\\left(\\dot{a}^{2} + \\dot{b}^{2} + \\dot{c}^{2}\\right ) - \\frac{3m^{2}}{10} \\int_{0,\\infty} \\frac{du}{\\Delta} + \\frac{\\epsilon}{(abc)^{1/3}}\n",
      "\\end{equation}"
     ]
    },
    {
     "cell_type": "heading",
     "level": 3,
     "metadata": {},
     "source": [
      "Example: Sphere"
     ]
    },
    {
     "cell_type": "markdown",
     "metadata": {},
     "source": [
      "For a star of a given mass there exist one equilibrium value of $\\epsilon$:\n",
      "\n",
      "\\begin{equation}\n",
      "\\epsilon_{equi} = \\frac{3}{5} m^{2} \\end{equation}\n",
      "\n",
      "In the case of a sphere, a=b=c and $\\dot{a}$ = $\\dot{b}$ = $\\dot{c}$:\n",
      "\n",
      "\\begin{equation} \n",
      "H = \\frac{3}{10}m\\dot{a}^{2} - \\frac{3}{5a}(m^{2} - \\frac{5}{3}\\epsilon) \\end{equation}\n",
      "\n",
      "\\begin{equation}\n",
      "\\ddot{a} = -\\frac{1}{ma^{2}} (m^{2} - \\frac{5}{3} \\epsilon) \\end{equation}\n",
      "\n",
      "In this example, if $\\epsilon < \\epsilon_{eq}$ the star contacts and if $\\epsilon > \\epsilon_{eq}$ the star expands. "
     ]
    },
    {
     "cell_type": "heading",
     "level": 3,
     "metadata": {},
     "source": [
      "Dimensionless Scaling Variables:"
     ]
    },
    {
     "cell_type": "markdown",
     "metadata": {},
     "source": [
      "\\begin{equation}\n",
      "\\epsilon_{*} = \\frac{5}{3} \\frac{\\epsilon}{m^{2}} \\quad \\quad t_{*} = t\\sqrt{m}\n",
      "\\end{equation}"
     ]
    },
    {
     "cell_type": "heading",
     "level": 3,
     "metadata": {},
     "source": [
      "Example: Oblate Spheroid"
     ]
    },
    {
     "cell_type": "markdown",
     "metadata": {},
     "source": [
      "Introduce the parameter k, which is less than unity for the oblate case: \n",
      "\n",
      "\\begin{equation} k = \\frac{c}{a} \n",
      "\\end{equation}\n",
      "\n",
      "The equations of motion for the axes are: \n",
      "\n",
      "\\begin{equation}\n",
      "\\ddot{a} = \\frac{3}{2} \\frac{m}{a^{2} 1-k^{2}} \\left[ k - \\frac{arccos(k)}{\\sqrt{1 - k^{2}}} \\right] + \\frac{5}{3m} \\frac{\\epsilon}{a(a^{2}c)^{1/3}} \n",
      "\\end{equation}\n",
      "\n",
      "\\begin{equation}\n",
      "\\ddot{c} = -3 \\frac{m}{a^{2} 1-k^{2}} \\left[ 1 - \\frac{k arccos(k)}{\\sqrt{1 - k^{2}}} \\right] + \\frac{5}{3m} \\frac{\\epsilon}{c(a^{2}c)^{1/3}} \n",
      "\\end{equation}\n",
      "\n",
      "With the dimensionless scaling variables:\n",
      "\n",
      "\\begin{equation}\n",
      "\\ddot{a} = \\frac{3}{2} \\frac{1}{a^{2} 1-k^{2}} \\left[ k - \\frac{arccos(k)}{\\sqrt{1 - k^{2}}} \\right] + \\frac{\\epsilon}{a(a^{2}c)^{1/3}} \n",
      "\\end{equation}\n",
      "\n",
      "\\begin{equation}\n",
      "\\ddot{c} = -3 \\frac{1}{a^{2} 1-k^{2}} \\left[ 1 - \\frac{k arccos(k)}{\\sqrt{1 - k^{2}}} \\right] + \\frac{\\epsilon}{c(a^{2}c)^{1/3}} \n",
      "\\end{equation}"
     ]
    },
    {
     "cell_type": "heading",
     "level": 3,
     "metadata": {},
     "source": [
      "Example: Prolate Spheroid"
     ]
    },
    {
     "cell_type": "markdown",
     "metadata": {},
     "source": [
      "In the prolate case, k is greater than unity and the equations of motion are given by:\n",
      "\n",
      "\\begin{equation}\n",
      "\\ddot{a} = -\\frac{3}{2} \\frac{m}{a^{2} 1-k^{2}} \\left[ k - \\frac{cosh^{-1}(k)}{\\sqrt{1 - k^{2}}} \\right] + \\frac{5}{3m} \\frac{\\epsilon}{a(a^{2}c)^{1/3}} \n",
      "\\end{equation}\n",
      "\n",
      "\\begin{equation}\n",
      "\\ddot{c} = 3 \\frac{m}{a^{2} 1-k^{2}} \\left[ 1 - \\frac{k cosh^{-1}(k)}{\\sqrt{1 - k^{2}}} \\right] + \\frac{5}{3m} \\frac{\\epsilon}{c(a^{2}c)^{1/3}} \n",
      "\\end{equation}\n",
      "\n",
      "With the dimensionless scaling variables:\n",
      "\n",
      "\\begin{equation}\n",
      "\\ddot{a} = -\\frac{3}{2} \\frac{1}{a^{2} 1-k^{2}} \\left[ k - \\frac{cosh^{-1}(k)}{\\sqrt{1 - k^{2}}} \\right] + \\frac{\\epsilon}{a(a^{2}c)^{1/3}} \n",
      "\\end{equation}\n",
      "\n",
      "\\begin{equation}\n",
      "\\ddot{c} = 3 \\frac{1}{a^{2} 1-k^{2}} \\left[ 1 - \\frac{k cosh^{-1}(k)}{\\sqrt{1 - k^{2}}} \\right] + \\frac{\\epsilon}{c(a^{2}c)^{1/3}} \n",
      "\\end{equation}"
     ]
    },
    {
     "cell_type": "heading",
     "level": 2,
     "metadata": {},
     "source": [
      "Hamiltonian Total Energy Equations for parameter k:"
     ]
    },
    {
     "cell_type": "markdown",
     "metadata": {},
     "source": [
      "- Dimensionless Hamiltonian: $ H_{0} = \\frac{H}{m} $\n",
      "\n",
      "Expansion around k = 1:\n",
      "\n",
      "\\begin{equation}\n",
      "\\ddot{a} = - \\frac{1-\\epsilon}{a^{2}} + \\left( \\frac{\\epsilon}{3} + \\frac{3}{5} \\right) \\frac{1-k}{a^{2}}\n",
      "\\end{equation}\n",
      "\n",
      "\\begin{equation}\n",
      "\\ddot{c} = - \\frac{1-\\epsilon}{a^{2}} + \\left( \\frac{4\\epsilon}{3} + \\frac{4}{5} \\right) \\frac{1-k}{a^{2}}\n",
      "\\end{equation}"
     ]
    },
    {
     "cell_type": "markdown",
     "metadata": {},
     "source": [
      "- Oblate:\n",
      "\n",
      "\\begin{equation}\n",
      "H_{ob} = \\frac{\\dot{a}^{2}}{5} + \\frac{\\dot{c}^{2}}{10} - \\frac{3}{5a} \\frac{cos^{-1}(k)}{\\sqrt{1 - k^{2}}} + \\frac{3}{5} \\frac{\\epsilon}{(a^{2}c)^{1/3}}\n",
      "\\end{equation}\n",
      "\n",
      "- Prolate:\n",
      "\n",
      "\\begin{equation}\n",
      "H_{pro} = \\frac{\\dot{a}^{2}}{5} + \\frac{\\dot{c}^{2}}{10} - \\frac{3}{5a} \\frac{cosh^{-1}(k)}{\\sqrt{1 - k^{2}}} + \\frac{3}{5} \\frac{\\epsilon}{(a^{2}c)^{1/3}}\n",
      "\\end{equation}\n",
      "\n",
      "- Sphere:\n",
      "\n",
      "\\begin{equation}\n",
      "H_{sp} = \\frac{3\\dot{a}^{2}}{10} - \\frac{3}{5a}(1 - \\epsilon)\n",
      "\\end{equation}\n"
     ]
    },
    {
     "cell_type": "markdown",
     "metadata": {},
     "source": [
      "- Dimensionless Hamiltonian: for deformation $$\\delta = 1 - k \\quad \\text{and} \\quad  | \\delta | << 1$$:\n",
      "\n",
      "\\begin{equation}\n",
      "H_{*} = \\frac{\\dot{a}^{2}}{5} + \\frac{\\dot{c}^{2}}{10} - \\frac{3}{5a} \\left( 1 + \\frac{\\delta}{3} + \\frac{2\\delta^{2}}{15} \\right) + \\frac{3\\epsilon}{5a} \\left( 1 + \\frac{\\delta}{3} + \\frac{2\\delta^{2}}{9} \\right) \\end{equation}\n",
      "\n"
     ]
    },
    {
     "cell_type": "heading",
     "level": 2,
     "metadata": {},
     "source": [
      "Numerical Analysis of the Case H = 0: "
     ]
    },
    {
     "cell_type": "markdown",
     "metadata": {},
     "source": [
      "- Sphere with zero initial radial velocity has equilibrium state: \n",
      "\n",
      "\\begin{equation}\n",
      "\\epsilon = \\epsilon_{eq} = 1 \n",
      "\\end{equation}\n",
      "\n",
      "For non-zero initial velocity the equilibrium state must have value less than unity\n",
      "\n",
      "\\begin{equation}\n",
      "\\dot{a} \\neq 0 \\quad \\quad \\quad \\epsilon < 1 \n",
      "\\end{equation}\n",
      "\n",
      "Implying:\n",
      "\n",
      "\\begin{equation}\n",
      "\\dot{a} < 0 : \\quad \\text{Collapse} \\quad \\quad \\quad \\dot{a} > 0: \\quad \\text{Total disruption}\n",
      "\\end{equation}"
     ]
    },
    {
     "cell_type": "markdown",
     "metadata": {},
     "source": [
      "- For initial spheroid a = b $\\neq$ c and zero initial velocities $\\dot{a} = \\dot{c} = 0$,\n",
      "\n",
      "\\begin{equation} \\epsilon < 1 \\end{equation}\n",
      "\n",
      "The value of $\\epsilon$ is uniquely determined by the deformation:\n",
      "\n",
      "\\begin{equation} \\delta = 1 - k = \\frac{a-c}{a} \\end{equation}\n",
      "\n",
      "For small $\\delta$:\n",
      "\n",
      "\\begin{equation} \\epsilon = 1 - \\frac{4}{45} \\delta^{2} \\end{equation}\n",
      "\n",
      "- Sphere $\\rightarrow \\quad \\epsilon = 1$\n",
      "- Spheroid $\\rightarrow \\quad \\epsilon < 1$\n",
      "\n",
      "The deformation of a zero energy body at rest has two states corresponding to oblate and prolate spheroids:\n",
      "\n",
      "\\begin{equation} \\delta = \\pm \\frac{3}{2} \\sqrt{5(1-\\epsilon)} \\end{equation}\n",
      "\n",
      "Oscillation behavior of $\\delta$ around zero corresponds to cases of contraction and expansion and are considered obloprolate oscillations."
     ]
    },
    {
     "cell_type": "code",
     "collapsed": false,
     "input": [],
     "language": "python",
     "metadata": {},
     "outputs": []
    }
   ],
   "metadata": {}
  }
 ]
}